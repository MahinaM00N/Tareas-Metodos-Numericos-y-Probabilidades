{
  "nbformat": 4,
  "nbformat_minor": 0,
  "metadata": {
    "colab": {
      "name": "Tarea 8.2 Métodos Numéricos y Probabilidades.ipynb",
      "provenance": [],
      "collapsed_sections": [],
      "authorship_tag": "ABX9TyMNjxSDn3hTk7xaGx+8j/8j",
      "include_colab_link": true
    },
    "kernelspec": {
      "name": "python3",
      "display_name": "Python 3"
    },
    "language_info": {
      "name": "python"
    }
  },
  "cells": [
    {
      "cell_type": "markdown",
      "metadata": {
        "id": "view-in-github",
        "colab_type": "text"
      },
      "source": [
        "<a href=\"https://colab.research.google.com/github/MahinaM00N/Tareas-Metodos-Numericos-y-Probabilidades/blob/main/Tarea_8_2_M%C3%A9todos_Num%C3%A9ricos_y_Probabilidades.ipynb\" target=\"_parent\"><img src=\"https://colab.research.google.com/assets/colab-badge.svg\" alt=\"Open In Colab\"/></a>"
      ]
    },
    {
      "cell_type": "markdown",
      "metadata": {
        "id": "qRILnkZjgKAV"
      },
      "source": [
        "#Tarea 8.2\n",
        "Mahina Montoya Zavala |Métodos numéricos y probabilidades"
      ]
    },
    {
      "cell_type": "markdown",
      "metadata": {
        "id": "E5qJ0sxKfmnT"
      },
      "source": [
        "Escriba un código similar a la interpolación lineal de la clase, pero que realice una interpolación cuadrática. Es decir, este código interpola usando una parábola para cada trío de puntos. Grafique sus resultados para el mismo ejemplo usado en la interpolación lineal."
      ]
    },
    {
      "cell_type": "code",
      "metadata": {
        "id": "uswJVOAmf48y"
      },
      "source": [
        "import numpy as np\n",
        "import matplotlib.pyplot as plt"
      ],
      "execution_count": 1,
      "outputs": []
    },
    {
      "cell_type": "markdown",
      "source": [
        "Tal como vimos en la clase 15, buscamos los puntos a interpolar."
      ],
      "metadata": {
        "id": "f13bCHTS1nAG"
      }
    },
    {
      "cell_type": "code",
      "source": [
        "def find_ind(x, puntos):\n",
        "    for i in range(len(puntos)):\n",
        "        if x < puntos[i,0] and i != 0:\n",
        "            return i-1"
      ],
      "metadata": {
        "id": "RRpMh8ic1u0d"
      },
      "execution_count": 2,
      "outputs": []
    },
    {
      "cell_type": "markdown",
      "source": [
        "A partir de la función \"lin_interp\" para una interpolación lineal, también vista en la clase 15, y siguiendo la idea de como se formula esta interpolación basada en los polinomios de Legendre,\n",
        "\n",
        "$$\n",
        "L_{n,i}(x) = \\prod_{j = 0, j \\neq i}^n \\frac{(x - x_j)}{(x_MMi - x_j)}\n",
        "$$\n",
        "\n",
        "desarrollamos \"cub_interp\", haciendo referencia a la interpolación cúbica, donde un $n=2$ interpolaba dos puntos linealmente, así tomaremos 3 puntos, esto es $n=3$, para hacerla cuadrática.\n"
      ],
      "metadata": {
        "id": "gb5G6n4E1_Ne"
      }
    },
    {
      "cell_type": "code",
      "source": [
        "def cuad_interp(x,puntos):\n",
        "    \n",
        "    if x >= puntos[len(puntos)-1,0]:\n",
        "        return puntos[len(puntos)-1,1]\n",
        "    elif x <= puntos[0,0]:\n",
        "        return puntos[0,1]\n",
        "    \n",
        "    i = find_ind(x, puntos)\n",
        "\n",
        "#definimos los tres productos de la productoria\n",
        "\n",
        "    L0=puntos[i-1][1]*(x-puntos[i][0])/(puntos[i-1][0] - puntos[i][0])     \n",
        "    L1=puntos[i][1]*((x-puntos[i+1][0])/(puntos[i][0]-puntos[i+1][0]))*(x-puntos[i-1][0])/(puntos[i][0]-puntos[i-1][0])\n",
        "    L2=puntos[i+1][1]*((x-puntos[i-1][0])/(puntos[i+1][0]-puntos[i-1][0]))*(x-puntos[i][0])/(puntos[i+1][0]-puntos[i][0])\n",
        "    \n",
        "    return L0 + L1 + L2"
      ],
      "metadata": {
        "id": "rzQQ2DVSutc2"
      },
      "execution_count": 8,
      "outputs": []
    },
    {
      "cell_type": "code",
      "source": [
        "mini = 0.1\n",
        "maxi = 20\n",
        "order = 9     #al variar a un orden superior se acerca a los valores reales \n",
        "\n",
        "xp = np.linspace(mini, maxi, order)\n",
        "puntos = np.array([[xi, np.sin(xi)/xi] for xi in xp])\n",
        "\n",
        "x = np.linspace(mini, maxi, 100)\n",
        "exact = np.sin(x)/x\n",
        "cuad = [cuad_interp(xi, puntos) for xi in x]\n",
        "\n",
        "\n",
        "plt.scatter(puntos[:,0], puntos[:,1], color='red')\n",
        "plt.plot(x, exact)\n",
        "plt.plot(x, cuad)\n",
        "plt.title('Interpolación cuadrática')\n",
        "plt.legend([ 'exacta', 'cuadrática'], loc='best')"
      ],
      "metadata": {
        "colab": {
          "base_uri": "https://localhost:8080/",
          "height": 298
        },
        "id": "yR0qGVeJuz2m",
        "outputId": "cc8039bd-4499-467e-cfa8-a8e61862f5aa"
      },
      "execution_count": 9,
      "outputs": [
        {
          "output_type": "execute_result",
          "data": {
            "text/plain": [
              "<matplotlib.legend.Legend at 0x7f1b5ead1b10>"
            ]
          },
          "metadata": {},
          "execution_count": 9
        },
        {
          "output_type": "display_data",
          "data": {
            "image/png": "[encoded data removed]",
            "text/plain": [
              "<Figure size 432x288 with 1 Axes>"
            ]
          },
          "metadata": {
            "needs_background": "light"
          }
        }
      ]
    }
  ]
}