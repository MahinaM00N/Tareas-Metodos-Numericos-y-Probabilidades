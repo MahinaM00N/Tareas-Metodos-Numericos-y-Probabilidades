{
  "nbformat": 4,
  "nbformat_minor": 0,
  "metadata": {
    "colab": {
      "name": "Tarea 8.2 Métodos Numéricos y Probabilidades.ipynb",
      "provenance": [],
      "collapsed_sections": [],
      "authorship_tag": "ABX9TyNjB8gE4lactNLcbKsfLx9m",
      "include_colab_link": true
    },
    "kernelspec": {
      "name": "python3",
      "display_name": "Python 3"
    },
    "language_info": {
      "name": "python"
    }
  },
  "cells": [
    {
      "cell_type": "markdown",
      "metadata": {
        "id": "view-in-github",
        "colab_type": "text"
      },
      "source": [
        "<a href=\"https://colab.research.google.com/github/MahinaM00N/Tareas-Metodos-Numericos-y-Probabilidades/blob/main/Tarea_8_2_M%C3%A9todos_Num%C3%A9ricos_y_Probabilidades.ipynb\" target=\"_parent\"><img src=\"https://colab.research.google.com/assets/colab-badge.svg\" alt=\"Open In Colab\"/></a>"
      ]
    },
    {
      "cell_type": "markdown",
      "metadata": {
        "id": "qRILnkZjgKAV"
      },
      "source": [
        "#Tarea 8.2\n",
        "Mahina Montoya Zavala |Métodos numéricos y probabilidades"
      ]
    },
    {
      "cell_type": "markdown",
      "metadata": {
        "id": "E5qJ0sxKfmnT"
      },
      "source": [
        "Escriba un código similar a la interpolación lineal de la clase, pero que realice una interpolación cuadrática. Es decir, este código interpola usando una parábola para cada trío de puntos. Grafique sus resultados para el mismo ejemplo usado en la interpolación lineal."
      ]
    },
    {
      "cell_type": "code",
      "metadata": {
        "id": "uswJVOAmf48y"
      },
      "source": [
        "import numpy as np\n",
        "import matplotlib.pyplot as plt"
      ],
      "execution_count": 3,
      "outputs": []
    },
    {
      "cell_type": "markdown",
      "source": [
        "Modificamos el código visto en la clase 15 para una interpolación lineal, para encontrar e interpolar los puntos, pero esta vez agregamos un tercer polinomio de legendre  "
      ],
      "metadata": {
        "id": "-Vk7B1xTxBUQ"
      }
    },
    {
      "cell_type": "code",
      "source": [
        "def find_ind(x, puntos):\n",
        "    for i in range(len(puntos)):\n",
        "        if x < puntos[i,0] and i != 0:\n",
        "            return i-1\n",
        "\n",
        "def cub_interp(x,puntos):\n",
        "    \n",
        "    if x >= puntos[len(puntos)-1,0]:\n",
        "        return puntos[len(puntos)-1,1]\n",
        "    elif x <= puntos[0,0]:\n",
        "        return puntos[0,1]\n",
        "    \n",
        "    i = find_ind(x, puntos)\n",
        "    \n",
        "    L0=puntos[i-1][1]*(x-puntos[i][0])/(puntos[i-1][0] - puntos[i][0])    #agregamos este polinomio de Legendre distinto a los vistos en clase   \n",
        "    L1=puntos[i][1]*((x-puntos[i+1][0])/(puntos[i][0]-puntos[i+1][0]))*(x-puntos[i-1][0])/(puntos[i][0]-puntos[i-1][0])\n",
        "    L2=puntos[i+1][1]*((x-puntos[i-1][0])/(puntos[i+1][0]-puntos[i-1][0]))*(x-puntos[i][0])/(puntos[i+1][0]-puntos[i][0])\n",
        "    \n",
        "    return L0 + L1 + L2"
      ],
      "metadata": {
        "id": "rzQQ2DVSutc2"
      },
      "execution_count": 10,
      "outputs": []
    },
    {
      "cell_type": "code",
      "source": [
        "mini = 0.1\n",
        "maxi = 20\n",
        "order = 9\n",
        "\n",
        "xp = np.linspace(mini, maxi, order)\n",
        "puntos = np.array([[xi, np.sin(xi)/xi] for xi in xp])\n",
        "\n",
        "x = np.linspace(mini, maxi, 100)\n",
        "exact = np.sin(x)/x\n",
        "lin = [cub_interp(xi, puntos) for xi in x]\n",
        "\n",
        "plt.scatter(puntos[:,0], puntos[:,1], color='red')\n",
        "plt.plot(x, exact)\n",
        "plt.plot(x, lin)"
      ],
      "metadata": {
        "colab": {
          "base_uri": "https://localhost:8080/",
          "height": 281
        },
        "id": "yR0qGVeJuz2m",
        "outputId": "a4c85655-4735-4311-9c3a-7eedeeeb024f"
      },
      "execution_count": 11,
      "outputs": [
        {
          "output_type": "execute_result",
          "data": {
            "text/plain": [
              "[<matplotlib.lines.Line2D at 0x7f94dbf65ed0>]"
            ]
          },
          "metadata": {},
          "execution_count": 11
        },
        {
          "output_type": "display_data",
          "data": {
            "image/png": "[encoded data removed]",
            "text/plain": [
              "<Figure size 432x288 with 1 Axes>"
            ]
          },
          "metadata": {
            "needs_background": "light"
          }
        }
      ]
    }
  ]
}