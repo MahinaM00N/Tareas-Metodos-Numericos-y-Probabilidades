{
  "nbformat": 4,
  "nbformat_minor": 0,
  "metadata": {
    "colab": {
      "name": "Tarea 6.4 Métodos numéricos y probabilidades ipynb",
      "provenance": [],
      "authorship_tag": "ABX9TyO7inG668arZWGpZhlKt39x",
      "include_colab_link": true
    },
    "kernelspec": {
      "name": "python3",
      "display_name": "Python 3"
    },
    "language_info": {
      "name": "python"
    }
  },
  "cells": [
    {
      "cell_type": "markdown",
      "metadata": {
        "id": "view-in-github",
        "colab_type": "text"
      },
      "source": [
        "<a href=\"https://colab.research.google.com/github/MahinaM00N/Tareas-Metodos-Numericos-y-Probabilidades/blob/main/Tarea_6_4_M%C3%A9todos_num%C3%A9ricos_y_probabilidades_ipynb.ipynb\" target=\"_parent\"><img src=\"https://colab.research.google.com/assets/colab-badge.svg\" alt=\"Open In Colab\"/></a>"
      ]
    },
    {
      "cell_type": "markdown",
      "metadata": {
        "id": "ugO7U-zAQc8F"
      },
      "source": [
        "#Tarea 5.1\n",
        "Mahina Montoya Zavala |Métodos numéricos y probabilidades"
      ]
    },
    {
      "cell_type": "markdown",
      "metadata": {
        "id": "UMA8YghPQZdQ"
      },
      "source": [
        "Un cierto detector de partículas es golpeado por  100  partículas cada minuto, todas con la misma velocidad de  0.99𝑐  donde  𝑐  es la velocidad de la luz. El detector mide la velocidad de lás partículas con un error de  0.01𝑐 .\n",
        "Escriba un código que simule la distribución de velocidades observadas por el detector en 10 segundos. (Pista: Consulte cómo extraer un número aleatorio de una distribución discreta).\n",
        "Grafique la distribución de velocidades simulada."
      ]
    },
    {
      "cell_type": "code",
      "metadata": {
        "id": "SF_rk8knQPjE"
      },
      "source": [
        "import matplotlib.pyplot as plt\n",
        "import numpy as np"
      ],
      "execution_count": 1,
      "outputs": []
    },
    {
      "cell_type": "code",
      "metadata": {
        "colab": {
          "base_uri": "https://localhost:8080/"
        },
        "id": "Np4ygAZhX9xZ",
        "outputId": "621c00b1-0d31-4008-8d70-2b2b24eb4fe1"
      },
      "source": [
        "mediciones = np.random.normal(1, 0.01, 100)\n",
        "print(mediciones) #la velocidad a la que choca cada partícula en un minuto "
      ],
      "execution_count": 41,
      "outputs": [
        {
          "output_type": "stream",
          "name": "stdout",
          "text": [
            "[0.99844956 0.9930441  1.01055506 1.00714058 1.00134452 0.98045064\n",
            " 1.00780308 0.99035059 1.00918447 1.01159736 0.98893792 0.99772679\n",
            " 0.99382078 0.99164618 1.00744406 1.00915593 1.00101762 1.02097906\n",
            " 0.99909187 1.00832978 0.99482924 1.00874941 1.00477135 0.99751985\n",
            " 0.99090327 0.98266946 1.00088292 1.00776289 1.00542913 1.00182283\n",
            " 1.0131005  0.98224158 1.00074841 0.98106312 0.99926929 0.98067283\n",
            " 0.98978703 1.00977491 0.99800612 0.99911829 1.00598224 0.98797073\n",
            " 0.99491781 0.99885502 1.01365758 1.00258459 0.98410781 0.99829701\n",
            " 0.98735889 1.01813525 0.99300817 0.99240683 0.99450834 1.00188322\n",
            " 1.0040507  1.00126831 1.00071217 1.01741652 1.00908305 0.99876096\n",
            " 1.00714687 1.00025558 1.00000053 1.0127743  0.99571488 1.00566921\n",
            " 1.00494162 1.00689619 1.00855433 1.00129161 0.9972293  1.00613962\n",
            " 0.99794262 0.9895646  1.00004853 1.00624407 1.00377905 1.00065412\n",
            " 1.01433743 1.00584627 0.99991111 0.99026105 1.00345709 1.00197238\n",
            " 1.000552   0.99155585 1.00039892 0.99204233 0.98798269 0.98683261\n",
            " 1.00041696 0.99589976 0.99512546 0.99554878 0.99679055 0.9937915\n",
            " 1.00602571 1.00469164 1.00135791 1.00221583]\n"
          ]
        }
      ]
    },
    {
      "cell_type": "code",
      "metadata": {
        "colab": {
          "base_uri": "https://localhost:8080/",
          "height": 285
        },
        "id": "j00dPAtwqlMb",
        "outputId": "9ccdd834-4fc0-4688-da73-35abdb2081bd"
      },
      "source": [
        "plt.hist(mediciones) #histograma y distribución de velocidades para las mediciones\n",
        "plt.show()"
      ],
      "execution_count": 42,
      "outputs": [
        {
          "output_type": "display_data",
          "data": {
            "image/png": "[encoded data removed]",
            "text/plain": [
              "<Figure size 432x288 with 1 Axes>"
            ]
          },
          "metadata": {
            "needs_background": "light"
          }
        }
      ]
    },
    {
      "cell_type": "code",
      "metadata": {
        "colab": {
          "base_uri": "https://localhost:8080/"
        },
        "id": "9mXbK1FvscAa",
        "outputId": "13860e95-20a8-4645-b86e-44437f4d82c7"
      },
      "source": [
        "muestra=np.random.choice(mediciones,10)\n",
        "print(muestra) #muestra aleatoria de las mediciones en 10 segundos "
      ],
      "execution_count": 44,
      "outputs": [
        {
          "output_type": "stream",
          "name": "stdout",
          "text": [
            "[1.00566921 1.00074841 1.00126831 0.98106312 1.00874941 1.00908305\n",
            " 0.99382078 1.00258459 1.01365758 1.00000053]\n"
          ]
        }
      ]
    },
    {
      "cell_type": "code",
      "metadata": {
        "colab": {
          "base_uri": "https://localhost:8080/",
          "height": 321
        },
        "id": "p0_DF_Khu2ty",
        "outputId": "af2eb544-0ab2-4f21-b96e-f53bde22de1e"
      },
      "source": [
        "plt.hist(muestra,10) #histograma y distribución de velocidades para la muestra\n",
        "plt.title('Distribución de velocidades en 10 $s$')\n",
        "plt.xlabel('velocidad de las partículas $c$')\n",
        "plt.ylabel('frecuencia')\n",
        "plt.show()"
      ],
      "execution_count": 52,
      "outputs": [
        {
          "output_type": "display_data",
          "data": {
            "image/png": "[encoded data removed]",
            "text/plain": [
              "<Figure size 432x288 with 1 Axes>"
            ]
          },
          "metadata": {
            "needs_background": "light"
          }
        }
      ]
    }
  ]
}