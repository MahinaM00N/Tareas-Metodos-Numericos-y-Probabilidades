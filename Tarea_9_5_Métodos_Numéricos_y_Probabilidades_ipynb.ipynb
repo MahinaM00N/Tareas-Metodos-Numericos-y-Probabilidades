{
 "cells": [
  {
   "cell_type": "markdown",
   "metadata": {
    "colab_type": "text",
    "id": "view-in-github"
   },
   "source": [
    "<a href=\"https://colab.research.google.com/github/MahinaM00N/Tareas-Metodos-Numericos-y-Probabilidades/blob/main/Tarea_9_5_M%C3%A9todos_Num%C3%A9ricos_y_Probabilidades_ipynb.ipynb\" target=\"_parent\"><img src=\"https://colab.research.google.com/assets/colab-badge.svg\" alt=\"Open In Colab\"/></a>"
   ]
  },
  {
   "cell_type": "markdown",
   "metadata": {
    "id": "Wlzr12Vvh8KN"
   },
   "source": [
    "#Tarea 9.5\n",
    "Mahina Montoya Zavala |Métodos numéricos y probabilidades"
   ]
  },
  {
   "cell_type": "markdown",
   "metadata": {
    "id": "SKdG-5Ujgjqo"
   },
   "source": [
    "En clase escribimos un código para el método de Romberg en el cual el usuario debe ingresar el número de filas a calcular. Modifique el código para que el usuario especifique una precisión y el método se detenga cuando sea alcanzada esa precisión.\n",
    "Para estimar el error cometido en el cálculo de una integral se puede comparar el resultado obtenido en una fila dada, con el resultado obtenido en la fila anterior."
   ]
  },
  {
   "cell_type": "code",
   "execution_count": 1,
   "metadata": {
    "id": "OBtKdprA9HJm"
   },
   "outputs": [],
   "source": [
    "import numpy as np"
   ]
  },
  {
   "cell_type": "markdown",
   "metadata": {
    "id": "jIe2WusR-Rt4"
   },
   "source": [
    "Expandimos el codigo original, de una forma matricial ampliada"
   ]
  },
  {
   "cell_type": "code",
   "execution_count": 6,
   "metadata": {
    "colab": {
     "base_uri": "https://localhost:8080/"
    },
    "id": "qPr1E8op55zS",
    "outputId": "ea3ad321-3df1-4947-f061-52600b8b7793",
    "scrolled": true
   },
   "outputs": [
    {
     "name": "stdout",
     "output_type": "stream",
     "text": [
      "Especifique el valor de precisión 0.00001\n",
      " 0.77015115\n",
      " 0.82386686  0.84177209\n",
      " 0.83708375  0.84148938  0.84147054\n",
      " 0.84037503  0.84147213  0.84147098  0.84147098\n",
      "0.8414709849835893\n"
     ]
    }
   ],
   "source": [
    "def print_row(lst):                       #guarda los valores de cada fila, así se puede comparar con el resultado encontrado al obtener la precisión especificada\n",
    "    print (' '.join('%11.8f' % x for x in lst))\n",
    "\n",
    "def romberg(f, a, b, eps = float(input('Especifique el valor de precisión '))):   #indicamos el valor de la precisión (usar punto en vez de coma), al usar valores muy pequeños se nota mejor el cambio 0.0001 vs 0.0000001\n",
    "    R = [[0.5 * (b - a) * (f(a) + f(b))]]  # R[0][0]\n",
    "    print_row(R[0])\n",
    "    n = 1\n",
    "    while True:\n",
    "        h = float(b-a)/2**n\n",
    "        R.append((n+1)*[None])  # agregamos una fila vacía\n",
    "        R[n][0] = 0.5*R[n-1][0] + h*sum(f(a+(2*k-1)*h) for k in range(1, 2**(n-1)+1)) \n",
    "        for m in range(1, n+1):\n",
    "            R[n][m] = R[n][m-1] + (R[n][m-1] - R[n-1][m-1]) / (4**m - 1)\n",
    "        print_row(R[n])\n",
    "        if abs(R[n][n-1] - R[n][n]) < eps:\n",
    "            return R[n][n]\n",
    "        n += 1\n",
    "\n",
    "# lo probamos con la misma función de la clase 17 (nos debería dar np.sin(1)=0.8414709848078965)\n",
    "print (romberg(np.cos, 0, 1))"
   ]
  },
  {
   "cell_type": "markdown",
   "metadata": {},
   "source": [
    "# Calificación: 7.0"
   ]
  }
 ],
 "metadata": {
  "colab": {
   "authorship_tag": "ABX9TyPz1YFnrhsZ9UoC6AZbldDf",
   "include_colab_link": true,
   "name": "Tarea 9.5 Métodos Numéricos y Probabilidades.ipynb.ipynb",
   "provenance": []
  },
  "kernelspec": {
   "display_name": "Python 3",
   "language": "python",
   "name": "python3"
  },
  "language_info": {
   "codemirror_mode": {
    "name": "ipython",
    "version": 3
   },
   "file_extension": ".py",
   "mimetype": "text/x-python",
   "name": "python",
   "nbconvert_exporter": "python",
   "pygments_lexer": "ipython3",
   "version": "3.8.5"
  }
 },
 "nbformat": 4,
 "nbformat_minor": 1
}
