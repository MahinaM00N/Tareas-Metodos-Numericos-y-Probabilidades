{
  "nbformat": 4,
  "nbformat_minor": 0,
  "metadata": {
    "colab": {
      "name": "Tarea 9.5 Métodos Numéricos y Probabilidades.ipynb.ipynb",
      "provenance": [],
      "authorship_tag": "ABX9TyOt9k7luPwp8XiPnjtp2AQ7",
      "include_colab_link": true
    },
    "kernelspec": {
      "name": "python3",
      "display_name": "Python 3"
    },
    "language_info": {
      "name": "python"
    }
  },
  "cells": [
    {
      "cell_type": "markdown",
      "metadata": {
        "id": "view-in-github",
        "colab_type": "text"
      },
      "source": [
        "<a href=\"https://colab.research.google.com/github/MahinaM00N/Tareas-Metodos-Numericos-y-Probabilidades/blob/main/Tarea_9_5_M%C3%A9todos_Num%C3%A9ricos_y_Probabilidades_ipynb.ipynb\" target=\"_parent\"><img src=\"https://colab.research.google.com/assets/colab-badge.svg\" alt=\"Open In Colab\"/></a>"
      ]
    },
    {
      "cell_type": "markdown",
      "metadata": {
        "id": "Wlzr12Vvh8KN"
      },
      "source": [
        "#Tarea 9.5\n",
        "Mahina Montoya Zavala |Métodos numéricos y probabilidades"
      ]
    },
    {
      "cell_type": "markdown",
      "metadata": {
        "id": "SKdG-5Ujgjqo"
      },
      "source": [
        "En clase escribimos un código para el método de Romberg en el cual el usuario debe ingresar el número de filas a calcular. Modifique el código para que el usuario especifique una precisión y el método se detenga cuando sea alcanzada esa precisión.\n",
        "Para estimar el error cometido en el cálculo de una integral se puede comparar el resultado obtenido en una fila dada, con el resultado obtenido en la fila anterior."
      ]
    },
    {
      "cell_type": "code",
      "source": [
        "import numpy as np"
      ],
      "metadata": {
        "id": "OBtKdprA9HJm"
      },
      "execution_count": 16,
      "outputs": []
    },
    {
      "cell_type": "markdown",
      "source": [
        "Expandimos el codigo original, de una forma matricial ampliada"
      ],
      "metadata": {
        "id": "jIe2WusR-Rt4"
      }
    },
    {
      "cell_type": "code",
      "source": [
        "def print_row(lst):\n",
        "    print (' '.join('%11.8f' % x for x in lst))\n",
        "\n",
        "def romberg(f, a, b, eps = float(input('Especifique el valor de precisión '))):   #indicamos el valor de la precisión (usar punto en vez de coma), al usar valores muy pequeños se nota mejor el cambio 0.0001 vs 0.000000001\n",
        "    R = [[0.5 * (b - a) * (f(a) + f(b))]]  # R[0][0]\n",
        "    print_row(R[0])\n",
        "    n = 1\n",
        "    while True:\n",
        "        h = float(b-a)/2**n\n",
        "        R.append((n+1)*[None])  # agregamos una fila vacía\n",
        "        R[n][0] = 0.5*R[n-1][0] + h*sum(f(a+(2*k-1)*h) for k in range(1, 2**(n-1)+1)) \n",
        "        for m in range(1, n+1):\n",
        "            R[n][m] = R[n][m-1] + (R[n][m-1] - R[n-1][m-1]) / (4**m - 1)\n",
        "        print_row(R[n])\n",
        "        if abs(R[n][n-1] - R[n][n]) < eps:\n",
        "            return R[n][n]\n",
        "        n += 1\n",
        "\n",
        "# lo probamos con la misma función de la clase 17 (nos debería dar np.sin(1)=0.8414709848078965)\n",
        "print (romberg(np.cos, 0, 1))"
      ],
      "metadata": {
        "colab": {
          "base_uri": "https://localhost:8080/"
        },
        "id": "qPr1E8op55zS",
        "outputId": "4714f5b8-f9c7-4da8-fb87-74b6be99058f"
      },
      "execution_count": 18,
      "outputs": [
        {
          "output_type": "stream",
          "name": "stdout",
          "text": [
            "Especifique el valor de precisión 0.00000000000001\n",
            " 0.77015115\n",
            " 0.82386686  0.84177209\n",
            " 0.83708375  0.84148938  0.84147054\n",
            " 0.84037503  0.84147213  0.84147098  0.84147098\n",
            " 0.84119705  0.84147106  0.84147098  0.84147098  0.84147098\n",
            " 0.84140250  0.84147099  0.84147098  0.84147098  0.84147098  0.84147098\n",
            "0.8414709848078966\n"
          ]
        }
      ]
    }
  ]
}