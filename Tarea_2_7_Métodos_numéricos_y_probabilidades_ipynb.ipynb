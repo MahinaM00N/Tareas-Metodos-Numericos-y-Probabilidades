{
 "cells": [
  {
   "cell_type": "markdown",
   "metadata": {
    "colab_type": "text",
    "id": "view-in-github"
   },
   "source": [
    "<a href=\"https://colab.research.google.com/github/MahinaM00N/Tareas-Metodos-Numericos-y-Probabilidades/blob/main/Tarea_2_7_M%C3%A9todos_num%C3%A9ricos_y_probabilidades_ipynb.ipynb\" target=\"_parent\"><img src=\"https://colab.research.google.com/assets/colab-badge.svg\" alt=\"Open In Colab\"/></a>"
   ]
  },
  {
   "cell_type": "markdown",
   "metadata": {
    "id": "b9Av2JRYi9ke"
   },
   "source": [
    "#Tarea 2.7\n",
    "Mahina Montoya Zavala |\n",
    "Métodos numéricos y probabilidades"
   ]
  },
  {
   "cell_type": "markdown",
   "metadata": {
    "id": "twH_QwE-jRdK"
   },
   "source": [
    "##Escriba el siguiente número en su representación de 16 bits: 9.75"
   ]
  },
  {
   "cell_type": "markdown",
   "metadata": {
    "id": "1g-fPQGakkpd"
   },
   "source": [
    "Considerando la notación binaria en 16 bits, el número está determinado por\n",
    "\n",
    "\\begin{equation}\n",
    "(-1)^s 2^{c - 15} (1 + f) = 9.75\\\n",
    "\\end{equation}\n",
    "\n",
    "Donde $s$ es el primer digito binario, de los 16, el cuál evidentemente es $0$, ya que en nuestro caso el número a encontrar es positivo, $c$ se calcula con los siguientes $5$ bits y los siguientes 10, forman $f$. \n",
    "\n",
    "Ya conocemos $s$. En lo que respecta a $c$, se calcula como: \n",
    "$$\n",
    "c = \\sum_{i = 0}^{4} b_i 2^{4 - i}\n",
    "$$\n",
    "$b_i$, en este caso,  corresponde al bit i-ésimo, de los 5 asociados a $c$, luego será redefinido para calcular $f$, asociado a los bits adjudicados para calcularla. $c$ debe ser igual 18, tal que $2^{c-15}= 2^{3} =8$, que es el número entero más cercano al nuestro, en base 2.  Por lo tanto, despejando de la primera ecuación, obtenemos que $f$ debe ser $\\frac{1.75}{8}=0.21875$. \n",
    "\n",
    "Calculamos $c$, de forma que se cumpla lo anteriormente establecido:\n",
    "\n",
    "$$\n",
    "c =  2^4+ 2^1  = 16+2 = 18\n",
    "$$\n",
    "\n",
    "Es decir, los bits de las posiciones 3 y 6, de los 16 a encontrar,  serán diferentes de cero.\n",
    "\n",
    "\n",
    "Calculamos $f$ con:\n",
    "$$\n",
    "f = \\sum_{i = 1}^{10}\\left(\\frac{b_i}{2}\\right)^i\\,\n",
    "$$\n",
    "Redefinimos $b_i$ como el bit i-esimo de los 10 adjudicados para calcular $f$. Nuestra $f$, como vimos anteriormente, debe ser igual a $0.21875$, lo que resulta ser igual a la suma de las siguientes potencias: \n",
    "$$\n",
    "f=\\frac{1}{2}^{3}+\\frac{1}{2}^{4}+\\frac{1}{2}^{5}=0.21875\n",
    "$$\n",
    "Por lo que, además, los bits de las posiciones 9, 10 y 11 serán distintos de 0. Obteniendo, con esto, los ultimos bits de nuestro número en su representación binaria. Finalmente podemos expresar nuestro número, 9.75, completo, en esta representación: \n",
    "\n",
    "$$\n",
    "0 01001 0011100000\n",
    "$$\n",
    "Haciendo ingeniería inversa, comprobamos que se cumple nuestra primera fórmula. Habiendo determinado $s$, $c$ y $f$ nos encontramos listos para hallar nuestro número, en su representación binaria, aplicando la primera fórmula escrita y reemplazando estos parámetros encontrados:\n",
    "\\begin{equation}\n",
    "(-1)^0 2^{18 - 15} (1 + 0.21875) = 9.75\\,\n",
    "\\end{equation}\n",
    "\n"
   ]
  },
  {
   "cell_type": "code",
   "execution_count": 2,
   "metadata": {},
   "outputs": [
    {
     "data": {
      "text/plain": [
       "9.75"
      ]
     },
     "execution_count": 2,
     "metadata": {},
     "output_type": "execute_result"
    }
   ],
   "source": [
    "# Agregado por el profesor: Verifiquemos\n",
    "(-1)**0*(2)**(18-15)*(1 + 0.21875)"
   ]
  },
  {
   "cell_type": "code",
   "execution_count": null,
   "metadata": {
    "id": "gEjoCfKGEGoM"
   },
   "outputs": [],
   "source": [
    "#ya que no me fue necesario escribir ningún código todo se encuentra explicado en texto arriba"
   ]
  },
  {
   "cell_type": "markdown",
   "metadata": {},
   "source": [
    "# Calificación: 7.0"
   ]
  },
  {
   "cell_type": "code",
   "execution_count": null,
   "metadata": {},
   "outputs": [],
   "source": []
  }
 ],
 "metadata": {
  "colab": {
   "authorship_tag": "ABX9TyOwk9j893XCOIOhp2Euq6YK",
   "collapsed_sections": [],
   "include_colab_link": true,
   "name": "Tarea_2.7_Métodos_numéricos_y_probabilidades ipynb",
   "provenance": []
  },
  "kernelspec": {
   "display_name": "Python 3",
   "language": "python",
   "name": "python3"
  },
  "language_info": {
   "codemirror_mode": {
    "name": "ipython",
    "version": 3
   },
   "file_extension": ".py",
   "mimetype": "text/x-python",
   "name": "python",
   "nbconvert_exporter": "python",
   "pygments_lexer": "ipython3",
   "version": "3.8.5"
  }
 },
 "nbformat": 4,
 "nbformat_minor": 1
}
