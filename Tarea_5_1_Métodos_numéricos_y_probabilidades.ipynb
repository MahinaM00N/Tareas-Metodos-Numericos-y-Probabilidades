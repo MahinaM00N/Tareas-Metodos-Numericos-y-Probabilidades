{
  "nbformat": 4,
  "nbformat_minor": 0,
  "metadata": {
    "colab": {
      "name": "Tarea 5.1 Métodos numéricos y probabilidades",
      "provenance": [],
      "authorship_tag": "ABX9TyNUvv/ak05f8anrJvCC9oq+",
      "include_colab_link": true
    },
    "kernelspec": {
      "name": "python3",
      "display_name": "Python 3"
    },
    "language_info": {
      "name": "python"
    }
  },
  "cells": [
    {
      "cell_type": "markdown",
      "metadata": {
        "id": "view-in-github",
        "colab_type": "text"
      },
      "source": [
        "<a href=\"https://colab.research.google.com/github/MahinaM00N/Tareas-Metodos-Numericos-y-Probabilidades/blob/main/Tarea_5_1_M%C3%A9todos_num%C3%A9ricos_y_probabilidades.ipynb\" target=\"_parent\"><img src=\"https://colab.research.google.com/assets/colab-badge.svg\" alt=\"Open In Colab\"/></a>"
      ]
    },
    {
      "cell_type": "markdown",
      "metadata": {
        "id": "EPGw9xW8WtyY"
      },
      "source": [
        "\n",
        "#Tarea 5.1\n",
        "\n",
        "Mahina Montoya Zavala |Métodos numéricos y probabilidades"
      ]
    },
    {
      "cell_type": "markdown",
      "metadata": {
        "id": "JB51tm8MXBdt"
      },
      "source": [
        "En el problema de la urna al extraer seis bolas.\n",
        "¿Cuál es la probabilidad de que las primeras tres bolas no sean rojas?\n",
        "¿Cuál es la probabilidad de sacar dos bolas de cada color?"
      ]
    },
    {
      "cell_type": "markdown",
      "metadata": {
        "id": "dVJD5dtm0ggq"
      },
      "source": [
        "El ejemplo de la urna dice:\n",
        "\n",
        "Para un ejemplo menos trivial, consideremos una urna con 23 bolas: 8 blancas, 6 azules, 9 rojas. Se extraen 6 bolas de la urna sin reemplazo."
      ]
    },
    {
      "cell_type": "code",
      "metadata": {
        "id": "rY9nSYOy5ou4"
      },
      "source": [
        "def prob(evento, espacio):                      #definimos la función de probabilidad\n",
        "  return (len(evento & espacio)/len(espacio))"
      ],
      "execution_count": 11,
      "outputs": []
    },
    {
      "cell_type": "code",
      "metadata": {
        "id": "44Z2T_tjWsUH"
      },
      "source": [
        "def unir(color, numeros):\n",
        "    return {color + numero for numero in numeros}\n",
        "\n",
        "urna = unir('B', '12345678') | unir('A', '123456') | unir('R', '123456789')\n"
      ],
      "execution_count": 12,
      "outputs": []
    },
    {
      "cell_type": "code",
      "metadata": {
        "id": "LbUli8hy2jDm"
      },
      "source": [
        "import itertools                                \n",
        "espacio = set(itertools.combinations(urna, 6))  #se crean las posibles iteraciones al sacar 6 bolas"
      ],
      "execution_count": 13,
      "outputs": []
    },
    {
      "cell_type": "code",
      "metadata": {
        "colab": {
          "base_uri": "https://localhost:8080/"
        },
        "id": "5ezGYLJyiL0F",
        "outputId": "f79b1dcb-82e7-4c29-915a-a6e55c0372ae"
      },
      "source": [
        "def tres_rojas(evento):                         #combinaciones donde hay tres bolas rojas\n",
        "    s = [i[0] for i in evento]\n",
        "    return s.count('R') == 3                        \n",
        "\n",
        "rojos = {e for e in espacio if tres_rojas(e)}   #numero total de combinaciones donde hay tres bolas rojas \n",
        "\n",
        "prob_NoR = 1 - prob(rojos, espacio)             #la probabilidad de que tres no sean bolas rojas es igual a la de el total de posibles combinaciones al sacar 6 bolas menos la probabilidad de que sean rojas \n",
        "prob_NoR                                        #probabilidad de que salgan tres bolas y que no rojas\n"
      ],
      "execution_count": 14,
      "outputs": [
        {
          "output_type": "execute_result",
          "data": {
            "text/plain": [
              "0.6971083836072394"
            ]
          },
          "metadata": {},
          "execution_count": 14
        }
      ]
    },
    {
      "cell_type": "code",
      "metadata": {
        "colab": {
          "base_uri": "https://localhost:8080/"
        },
        "id": "FN1JxcUs8i7p",
        "outputId": "2295974f-672f-498f-9eca-508d0022b467"
      },
      "source": [
        "#definimos tres eventos\n",
        "\n",
        "def dos_blancas(evento):                                #combinaciones donde hay dos bolas blancas (evento 1)\n",
        "    s = [i[0] for i in evento]\n",
        "    return s.count('B') == 2\n",
        "\n",
        "def dos_azules(evento):                                 #combinaciones donde hay dos bolas azules \n",
        "    s = [i[0] for i in evento]\n",
        "    return s.count('A') == 2\n",
        "\n",
        "def dos_rojas(evento):                                  #combinaciones donde hay dos bolas rojas\n",
        "    s = [i[0] for i in evento]\n",
        "    return s.count('R') == 2\n",
        "\n",
        "blancos = {e for e in espacio if dos_blancas(e)}        #numero total de combinaciones donde hay dos bolas blancas \n",
        "\n",
        "azules= {e for e in espacio if dos_azules(e)}           #numero total de combinaciones donde hay dos bolas azules \n",
        "\n",
        "rojos = {e for e in espacio if tres_rojas(e)}           #numero total de combinaciones donde hay dos bolas rojas \n",
        "\n",
        "Prob_2cu = prob(blancos, espacio) * prob(azules, espacio) * prob(rojos, espacio) #probabilidad de que ocurran los tres eventos simultaneamente\n",
        "Prob_2cu                                                #probabilidad de que salgan dos bolas de cada color \n",
        "\n"
      ],
      "execution_count": 15,
      "outputs": [
        {
          "output_type": "execute_result",
          "data": {
            "text/plain": [
              "0.04055639254673722"
            ]
          },
          "metadata": {},
          "execution_count": 15
        }
      ]
    }
  ]
}