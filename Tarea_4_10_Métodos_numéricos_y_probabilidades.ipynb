{
  "nbformat": 4,
  "nbformat_minor": 0,
  "metadata": {
    "colab": {
      "name": "Tarea 4.10 - Métodos numéricos y probabilidades",
      "provenance": [],
      "authorship_tag": "ABX9TyMWFNCkoVaBrquotsrM17Pv",
      "include_colab_link": true
    },
    "kernelspec": {
      "name": "python3",
      "display_name": "Python 3"
    },
    "language_info": {
      "name": "python"
    }
  },
  "cells": [
    {
      "cell_type": "markdown",
      "metadata": {
        "id": "view-in-github",
        "colab_type": "text"
      },
      "source": [
        "<a href=\"https://colab.research.google.com/github/MahinaM00N/Tareas-Metodos-Numericos-y-Probabilidades/blob/main/Tarea_4_10_M%C3%A9todos_num%C3%A9ricos_y_probabilidades.ipynb\" target=\"_parent\"><img src=\"https://colab.research.google.com/assets/colab-badge.svg\" alt=\"Open In Colab\"/></a>"
      ]
    },
    {
      "cell_type": "markdown",
      "metadata": {
        "id": "AjYtL38sRYM8"
      },
      "source": [
        "\n",
        "#Tarea 4.10\n",
        "\n",
        "Mahina Montoya Zavala |Métodos numéricos y probabilidades"
      ]
    },
    {
      "cell_type": "markdown",
      "metadata": {
        "id": "syTcAWcfRBc6"
      },
      "source": [
        "Un colega le pasa a usted un archivo .hd5 que contiene tres \"datasets\" 'x', 'y', 'e'. Todos los datasets tienen la misma longitud y el i-ésimo elemento de cada dataset corresponde a una propiedad diferente del i-ésimo dato.\n",
        "Escriba una función que grafique esos resultados donde 'x' es el eje horizontal, 'y' el eje vertical y 'e' son las barras de error de 'y'.\n",
        "CUIDADO: Recuerde que el dataset es un puntero y deja de existir cuando se cierra el archivo.\n"
      ]
    },
    {
      "cell_type": "markdown",
      "metadata": {
        "id": "K34p1MatRsM4"
      },
      "source": [
        "Primero simularemos el documento que nos pasará el supuesto colega "
      ]
    },
    {
      "cell_type": "code",
      "metadata": {
        "id": "ZKDmCQnSQ_ia"
      },
      "source": [
        "#importamos los modulos que utilizaremos \n",
        "import h5py\n",
        "import numpy as np\n",
        "import matplotlib.pyplot as plt"
      ],
      "execution_count": 6,
      "outputs": []
    },
    {
      "cell_type": "code",
      "metadata": {
        "id": "SW77cTFxSHLO"
      },
      "source": [
        "#generaremos el documento h5py que supuestamente nos entregan \n",
        "# Estos son los datos del \"colega\"\n",
        "X = np.linspace(0,10,10) #X,Y,E son gen´rricos solo para tener datos en el documento\n",
        "Y = (2*(np.pi)*X)/2*X\n",
        "E= Y-np.pi\n",
        "\n",
        "# Ahora los grabamos a un archivo\n",
        "with h5py.File('dataset.hd5', 'w') as file:\n",
        "    xset = file.create_dataset('x', data=X) #la variable almacena los datos de X en forma binaria\n",
        "    yset = file.create_dataset('y', data=Y) #la variable almacena los datos de Y en forma binaria\n",
        "    eset = file.create_dataset('e', data=E) #la variable almacena los datos de E en forma binaria\n",
        "#se puede revisar la existencia del docupento prueba.hd5 en archivos"
      ],
      "execution_count": 37,
      "outputs": []
    },
    {
      "cell_type": "code",
      "metadata": {
        "colab": {
          "base_uri": "https://localhost:8080/",
          "height": 302
        },
        "id": "XGeCbbWYWBQ1",
        "outputId": "43993a8d-02c6-4d64-f9ad-934819d352d4"
      },
      "source": [
        "with h5py.File('dataset.hd5', 'r+') as file: #r+ nos da la autorización de leer y ocupar los datos del documento\n",
        "    x = file['x'] #podemos disponer de los datos, pero no estan almacenados en la ram\n",
        "    y = file['y']\n",
        "    e = file ['e']\n",
        "    datay = (y[:11]) #hacemos arreglos con los datos que podemos manipular\n",
        "    datax = (x[:11])\n",
        "    datae = (e[:11])\n",
        "plt.errorbar(datax, datay, datae, fmt=\"o\", color='r') #graficamos los datos \n",
        "\n"
      ],
      "execution_count": 57,
      "outputs": [
        {
          "output_type": "execute_result",
          "data": {
            "text/plain": [
              "<ErrorbarContainer object of 3 artists>"
            ]
          },
          "metadata": {},
          "execution_count": 57
        },
        {
          "output_type": "display_data",
          "data": {
            "image/png": "[encoded data removed]",
            "text/plain": [
              "<Figure size 432x288 with 1 Axes>"
            ]
          },
          "metadata": {
            "needs_background": "light"
          }
        }
      ]
    }
  ]
}