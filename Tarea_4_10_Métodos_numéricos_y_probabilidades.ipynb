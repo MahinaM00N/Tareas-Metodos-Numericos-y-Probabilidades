{
 "cells": [
  {
   "cell_type": "markdown",
   "metadata": {
    "colab_type": "text",
    "id": "view-in-github"
   },
   "source": [
    "<a href=\"https://colab.research.google.com/github/MahinaM00N/Tareas-Metodos-Numericos-y-Probabilidades/blob/main/Tarea_4_10_M%C3%A9todos_num%C3%A9ricos_y_probabilidades.ipynb\" target=\"_parent\"><img src=\"https://colab.research.google.com/assets/colab-badge.svg\" alt=\"Open In Colab\"/></a>"
   ]
  },
  {
   "cell_type": "markdown",
   "metadata": {
    "id": "AjYtL38sRYM8"
   },
   "source": [
    "\n",
    "#Tarea 4.10\n",
    "\n",
    "Mahina Montoya Zavala |Métodos numéricos y probabilidades"
   ]
  },
  {
   "cell_type": "markdown",
   "metadata": {
    "id": "syTcAWcfRBc6"
   },
   "source": [
    "Un colega le pasa a usted un archivo .hd5 que contiene tres \"datasets\" 'x', 'y', 'e'. Todos los datasets tienen la misma longitud y el i-ésimo elemento de cada dataset corresponde a una propiedad diferente del i-ésimo dato.\n",
    "Escriba una función que grafique esos resultados donde 'x' es el eje horizontal, 'y' el eje vertical y 'e' son las barras de error de 'y'.\n",
    "CUIDADO: Recuerde que el dataset es un puntero y deja de existir cuando se cierra el archivo.\n"
   ]
  },
  {
   "cell_type": "markdown",
   "metadata": {
    "id": "K34p1MatRsM4"
   },
   "source": [
    "Primero simularemos el documento que nos pasará el supuesto colega "
   ]
  },
  {
   "cell_type": "code",
   "execution_count": 6,
   "metadata": {
    "id": "ZKDmCQnSQ_ia"
   },
   "outputs": [],
   "source": [
    "#importamos los modulos que utilizaremos \n",
    "import h5py\n",
    "import numpy as np\n",
    "import matplotlib.pyplot as plt"
   ]
  },
  {
   "cell_type": "code",
   "execution_count": 60,
   "metadata": {
    "id": "SW77cTFxSHLO"
   },
   "outputs": [],
   "source": [
    "#generaremos el documento h5py que supuestamente nos entregan \n",
    "# Estos son los datos del \"colega\"\n",
    "X = np.linspace(0,10,10) #X,Y,E son genéricos solo para tener datos en el documento\n",
    "Y = (2*(np.pi)*X)/2*X\n",
    "E= (Y-np.pi)/np.pi\n",
    "\n",
    "# Ahora los grabamos a un archivo los datos \n",
    "with h5py.File('dataset.hd5', 'w') as file:\n",
    "    xset = file.create_dataset('x', data=X) #la variable almacena los datos de X en forma binaria\n",
    "    yset = file.create_dataset('y', data=Y) #la variable almacena los datos de Y en forma binaria\n",
    "    eset = file.create_dataset('e', data=E) #la variable almacena los datos de E en forma binaria\n",
    "#se puede revisar la existencia del docupento dataset.hd5 en archivos, que es el archivo que trabajaremos mas adelante"
   ]
  },
  {
   "cell_type": "code",
   "execution_count": 63,
   "metadata": {
    "colab": {
     "base_uri": "https://localhost:8080/",
     "height": 315
    },
    "id": "XGeCbbWYWBQ1",
    "outputId": "9bf2da87-69b9-4f8b-85f4-662027bb1d24",
    "scrolled": true
   },
   "outputs": [
    {
     "data": {
      "image/png": "[encoded data removed]",
      "text/plain": [
       "<Figure size 432x288 with 1 Axes>"
      ]
     },
     "metadata": {
      "needs_background": "light"
     },
     "output_type": "display_data"
    }
   ],
   "source": [
    "with h5py.File('dataset.hd5', 'r+') as file: #r+ nos da la autorización de leer y ocupar los datos del documento\n",
    "    x = file['x'] #podemos disponer de los datos, pero no estan almacenados en la ram\n",
    "    y = file['y']\n",
    "    e = file ['e']\n",
    "    datay = (y[:11]) #hacemos arreglos con los datos que podamos manipular\n",
    "    datax = (x[:11])\n",
    "    datae = (e[:11])\n",
    "plt.errorbar(datax, datay, datae, fmt=\"o\", color='r') #graficamos los datos \n",
    "\n",
    "#extras\n",
    "plt.xlabel('$x$')\n",
    "plt.ylabel('$f(x)$')\n",
    "plt.title('función de datos con error')\n",
    "\n",
    "plt.show()"
   ]
  },
  {
   "cell_type": "markdown",
   "metadata": {},
   "source": [
    "# Calificación: 6.0\n",
    "\n",
    "Está todo bien, pero se pedía escribir una *función* que hiciera todo esto."
   ]
  }
 ],
 "metadata": {
  "colab": {
   "authorship_tag": "ABX9TyOqo8MKSmOzDxK7gIeoX+AW",
   "include_colab_link": true,
   "name": "Tarea 4.10 - Métodos numéricos y probabilidades",
   "provenance": []
  },
  "kernelspec": {
   "display_name": "Python 3",
   "language": "python",
   "name": "python3"
  },
  "language_info": {
   "codemirror_mode": {
    "name": "ipython",
    "version": 3
   },
   "file_extension": ".py",
   "mimetype": "text/x-python",
   "name": "python",
   "nbconvert_exporter": "python",
   "pygments_lexer": "ipython3",
   "version": "3.8.5"
  }
 },
 "nbformat": 4,
 "nbformat_minor": 1
}
